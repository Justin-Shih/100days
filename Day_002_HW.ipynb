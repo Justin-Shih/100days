{
 "cells": [
  {
   "cell_type": "markdown",
   "metadata": {},
   "source": [
    "## [作業目標]\n",
    "了解機器學習適合應用的領域與範疇。"
   ]
  },
  {
   "cell_type": "markdown",
   "metadata": {},
   "source": [
    "## [作業重點]\n",
    "透過瞭解機器學習的運作方式，找出非常適用機器學習應用的領域及其原因"
   ]
  },
  {
   "cell_type": "markdown",
   "metadata": {},
   "source": [
    "## 作業\n",
    "請找出一個你認為機器學習可以發光發熱的領域並闡述原因? "
   ]
  },
  {
   "cell_type": "markdown",
   "metadata": {},
   "source": [
    "由於機器學習針對重複性高、目標明確的問題，機器學習多半都能發揮的不錯。\n",
    "個人認為機器學習可以應用在在視覺影像、影音串流領域可發光發熱，\n",
    "\n",
    "原因是因為視覺影像、影音串流，在傳統分析採用規則定義(Rule base)處理一直是難題，但導入機器學習或者深度學習後，\n",
    "有許多應用，例如，YOLO V4影像辨識即有不錯結果，未來在視覺影像、影音串流的應用，使用機器學習，將有不錯成果。\n"
   ]
  }
 ],
 "metadata": {
  "kernelspec": {
   "display_name": "Python 3",
   "language": "python",
   "name": "python3"
  },
  "language_info": {
   "codemirror_mode": {
    "name": "ipython",
    "version": 3
   },
   "file_extension": ".py",
   "mimetype": "text/x-python",
   "name": "python",
   "nbconvert_exporter": "python",
   "pygments_lexer": "ipython3",
   "version": "3.7.7"
  }
 },
 "nbformat": 4,
 "nbformat_minor": 2
}
